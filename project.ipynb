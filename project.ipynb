{
 "cells": [
  {
   "cell_type": "code",
   "execution_count": 90,
   "metadata": {},
   "outputs": [
    {
     "name": "stdout",
     "output_type": "stream",
     "text": [
      "Thank you! Next we will be taking your information above and using it to get your R.O.I percentage!\n",
      "Your Return of Investment is [12.0]%!\n"
     ]
    }
   ],
   "source": [
    "class return_of_investment():\n",
    "    def __init__(self):\n",
    "        self.income = []\n",
    "        self.expense = []\n",
    "        self.cash_flow = []\n",
    "        self.annual_cash_flow = []\n",
    "        self.total_investment = []\n",
    "        self.return_investment = []\n",
    "\n",
    "    def cashflow1(self):\n",
    "        annual_income = int(input(f'Hello investor! Enter your anual income to get started. This is how much you are charging for rent on your property.'))\n",
    "        self.income.append(annual_income)\n",
    "        annual_expenses = int(input(f'Now enter you annual expenses here. Your anual expeses are what you pay on the property, including bills, maintainemce, exc..'))\n",
    "        self.expense.append(annual_expenses)\n",
    "        filler = [12]\n",
    "        for x in range(1):\n",
    "            self.annual_cash_flow.append((self.income[x] - self.expense[x]) *filler[x])\n",
    "        print(f'Thank you! Next we will be taking your information above and using it to get your R.O.I percentage!')\n",
    "            \n",
    "        \n",
    "    def r_o_i(self):\n",
    "        investment_return = int(input(f'Your annual cash flow is {self.annual_cash_flow}. Please enter your total ammount invested (the total ammount you have spent overall on the property) to find you Return of Investment.'))\n",
    "        self.total_investment.append(investment_return)\n",
    "        for x in range(1):\n",
    "            self.return_investment.append(self.annual_cash_flow[x] / self.total_investment[x])\n",
    "            print(f'Your Return of Investment is {self.return_investment}%!')\n",
    "            \n",
    " \n",
    " \n",
    " \n",
    " \n",
    " \n",
    "property1 = return_of_investment()\n",
    "def runner():\n",
    "    while True:\n",
    "        property1.cashflow1()\n",
    "        property1.r_o_i()\n",
    "        break\n",
    "\n",
    "runner()\n",
    "\n",
    "\n",
    "\n",
    "\n",
    "\n",
    "\n",
    "    \n",
    "\n",
    "        "
   ]
  }
 ],
 "metadata": {
  "language_info": {
   "name": "python"
  },
  "orig_nbformat": 4
 },
 "nbformat": 4,
 "nbformat_minor": 2
}
